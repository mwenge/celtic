{
 "cells": [
  {
   "cell_type": "markdown",
   "metadata": {},
   "source": [
    "# Fetch Image FIles"
   ]
  },
  {
   "cell_type": "code",
   "execution_count": 8,
   "metadata": {},
   "outputs": [],
   "source": [
    "import sqlite3\n",
    "DB_FILE = '020-sqlite/ogham.db'\n",
    "conn = sqlite3.connect(DB_FILE)\n",
    "\n",
    "SQL = f\"\"\"\n",
    "SELECT DISTINCT SITE,STONE,INSCRIPTION\n",
    "FROM INSCRIP\n",
    "\"\"\"\n",
    "cursor = conn.cursor()\n",
    "rows = cursor.execute(SQL).fetchall()\n"
   ]
  },
  {
   "cell_type": "code",
   "execution_count": 20,
   "metadata": {},
   "outputs": [],
   "source": [
    "urls = []\n",
    "PREFIX = \"https://www.ucl.ac.uk/archaeology/cisp/database\"\n",
    "for site,stone,inscription in rows:\n",
    "    urls += [((site,stone,inscription),\n",
    "             f\"{PREFIX}/picpage/{site.lower()}_{stone}_{inscription}.html\")]\n"
   ]
  },
  {
   "cell_type": "code",
   "execution_count": 27,
   "metadata": {},
   "outputs": [],
   "source": [
    "import requests\n",
    "import os\n",
    "HTML_DIR = '030 - image html files'\n",
    "for (site,stone,inscription),url in urls:\n",
    "    of_name = f\"{HTML_DIR}/{site}_{stone}_{inscription}.html\"\n",
    "    if os.path.exists(of_name):\n",
    "        continue\n",
    "    try:\n",
    "        r = requests.get(url)\n",
    "    except:\n",
    "        continue\n",
    "    of = open(of_name, 'w')\n",
    "    of.write(r.text)\n",
    "    of.flush()"
   ]
  },
  {
   "cell_type": "code",
   "execution_count": 36,
   "metadata": {},
   "outputs": [],
   "source": [
    "import os\n",
    "image_urls = []\n",
    "for fn in os.listdir(HTML_DIR):\n",
    "    full_name = os.path.join(HTML_DIR, fn)\n",
    "    image_urls += [(fn,l) for l in open(full_name).readlines()\n",
    "                  if \"img src\" in l and \"images\" in l and \"close\" not in l\n",
    "                  and \"mob-nav\" not in l]\n"
   ]
  },
  {
   "cell_type": "code",
   "execution_count": 37,
   "metadata": {},
   "outputs": [],
   "source": [
    "inscriptions_images = []\n",
    "for fn, im in image_urls:\n",
    "    site,stone,inscription = fn[:-5].split('_')\n",
    "    img_url = im.split(\"\\\"\")[1]\n",
    "    inscriptions_images += [(site,stone,inscription,img_url)]\n"
   ]
  },
  {
   "cell_type": "code",
   "execution_count": 45,
   "metadata": {},
   "outputs": [],
   "source": [
    "import shutil\n",
    "IMAGES_DIR = '040 - images'\n",
    "for site,stone,inscription,img_url in inscriptions_images:\n",
    "    r = requests.get(f\"{PREFIX}/picpage/{img_url}\", stream=True)\n",
    "    if r.status_code != 200:\n",
    "        continue\n",
    "    \n",
    "    on_prefix = os.path.join(IMAGES_DIR,f\"{site}_{stone}_{inscription}\")\n",
    "    i = 0\n",
    "    on_suffix = f\"_{i}.{img_url[-3:]}\"\n",
    "    while os.path.exists(on_prefix+on_suffix):\n",
    "        i+=1\n",
    "        on_suffix = f\"_{i}.{img_url[-3:]}\"\n",
    "    on = on_prefix+on_suffix\n",
    "    \n",
    "    with open(on, 'wb') as f:\n",
    "        r.raw.decode_content = True\n",
    "        shutil.copyfileobj(r.raw, f)   "
   ]
  }
 ],
 "metadata": {
  "kernelspec": {
   "display_name": "Python 3",
   "language": "python",
   "name": "python3"
  },
  "language_info": {
   "codemirror_mode": {
    "name": "ipython",
    "version": 3
   },
   "file_extension": ".py",
   "mimetype": "text/x-python",
   "name": "python",
   "nbconvert_exporter": "python",
   "pygments_lexer": "ipython3",
   "version": "3.8.10"
  }
 },
 "nbformat": 4,
 "nbformat_minor": 4
}
